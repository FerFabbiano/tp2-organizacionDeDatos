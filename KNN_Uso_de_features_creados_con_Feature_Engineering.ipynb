{
  "nbformat": 4,
  "nbformat_minor": 0,
  "metadata": {
    "colab": {
      "name": "KNN-Uso de features creados con Feature Engineering.ipynb",
      "provenance": [],
      "collapsed_sections": []
    },
    "kernelspec": {
      "name": "python3",
      "display_name": "Python 3"
    }
  },
  "cells": [
    {
      "cell_type": "markdown",
      "metadata": {
        "id": "WgVmJpeO9NGA"
      },
      "source": [
        "# Imports"
      ]
    },
    {
      "cell_type": "code",
      "metadata": {
        "id": "OyrnCNal9NGA"
      },
      "source": [
        "import pandas as pd\n",
        "import numpy as np\n",
        "import matplotlib.pyplot as plt\n",
        "import xgboost as xgb\n",
        "from sklearn import tree\n",
        "from google.colab import files\n",
        "from sklearn.model_selection import train_test_split\n",
        "from xgboost import XGBClassifier\n",
        "import numpy as np\n",
        "from sklearn.model_selection import RandomizedSearchCV"
      ],
      "execution_count": null,
      "outputs": []
    },
    {
      "cell_type": "markdown",
      "metadata": {
        "id": "RvXWFdeh9NGB"
      },
      "source": [
        "# Carga de los data sets de test y de entrenamiento"
      ]
    },
    {
      "cell_type": "code",
      "metadata": {
        "id": "pX3kE9GO9NGB"
      },
      "source": [
        "test = pd.read_csv('https://raw.githubusercontent.com/FerFabbiano/tp2-organizacionDeDatos/main/Test_TP2_Datos_2020-2C.csv')\n",
        "train = pd.read_csv('https://raw.githubusercontent.com/FerFabbiano/tp2-organizacionDeDatos/main/Train_TP2_Datos_2020-2C.csv')\n",
        "\n",
        "train_set_features = pd.read_csv('https://raw.githubusercontent.com/FerFabbiano/tp2-organizacionDeDatos/main/train_set_Features.csv')\n",
        "test_set_features = pd.read_csv('https://raw.githubusercontent.com/FerFabbiano/tp2-organizacionDeDatos/main/test_set_Features.csv')"
      ],
      "execution_count": null,
      "outputs": []
    },
    {
      "cell_type": "code",
      "metadata": {
        "id": "dhMh6Zhb9NGC"
      },
      "source": [
        "train_set_features = train_set_features.drop_duplicates(subset=\"Opportunity_ID\")\n",
        "test_set_features = test_set_features.drop_duplicates(subset=\"Opportunity_ID\")"
      ],
      "execution_count": null,
      "outputs": []
    },
    {
      "cell_type": "markdown",
      "metadata": {
        "id": "dDFXKlNFtz7q"
      },
      "source": [
        "# Prediccion usando KNN analizando el feature Bureaucratic_Code_0_Approval"
      ]
    },
    {
      "cell_type": "markdown",
      "metadata": {
        "id": "jTr4jRJ3vZ3B"
      },
      "source": [
        "Elijo la columna a analizar"
      ]
    },
    {
      "cell_type": "code",
      "metadata": {
        "id": "mCrLIVUvvZ3K"
      },
      "source": [
        "#X = DATA , Y = TARGET \r\n",
        "X1, y1 =  train_set_features[['Total_Taxable_Amount_USD',\r\n",
        "                            'Bureaucratic_Code_0_Approved', \r\n",
        "                            'Products_Per_Op',\r\n",
        "                            'TRF_Per_Op',\r\n",
        "                            'Daily_Dif_Account_Created_Opportunity_Created_Date',\r\n",
        "                            #'Daily_Dif_Delivery_Start_Delivery_End_Date',\r\n",
        "                            'Opp_Owner_Did_Last_Modifiy',\r\n",
        "                            'Pricing, Delivery_Terms_Approved',\r\n",
        "                            'Bureaucratic_Code_0_Approval',\r\n",
        "                            'Last_Modified_date>Planned_Delivery_End_Date',\r\n",
        "                            'Op_Has_A_Valid_Quote_Expiry_Date']], train_set_features['Stage']"
      ],
      "execution_count": null,
      "outputs": []
    },
    {
      "cell_type": "markdown",
      "metadata": {
        "id": "kba_vG0EvhTf"
      },
      "source": [
        "Divido el train set"
      ]
    },
    {
      "cell_type": "code",
      "metadata": {
        "id": "yjruYJbnvhTg"
      },
      "source": [
        "X_train, X_test, y_train, y_test = train_test_split(X1, y1, test_size=0.3, random_state=45)"
      ],
      "execution_count": null,
      "outputs": []
    },
    {
      "cell_type": "code",
      "metadata": {
        "id": "8XivDOSPv4O5"
      },
      "source": [
        "#KNN\r\n",
        "from sklearn.neighbors import KNeighborsClassifier\r\n",
        "\r\n",
        "model_name = 'KNN'\r\n",
        "neigh = KNeighborsClassifier(n_neighbors=50,weights='distance')\r\n",
        "neigh.fit(X_train,y_train)\r\n",
        "predicciones_train = neigh.predict_proba(X_test)"
      ],
      "execution_count": null,
      "outputs": []
    },
    {
      "cell_type": "code",
      "metadata": {
        "colab": {
          "base_uri": "https://localhost:8080/"
        },
        "id": "jgT-6P0o2BIi",
        "outputId": "513893a2-9043-4873-f154-0ac734bb998b"
      },
      "source": [
        "predicciones_train"
      ],
      "execution_count": null,
      "outputs": [
        {
          "output_type": "execute_result",
          "data": {
            "text/plain": [
              "array([[0.46008897, 0.53991103, 0.        , 0.        , 0.        ],\n",
              "       [0.50885611, 0.49114389, 0.        , 0.        , 0.        ],\n",
              "       [0.27786685, 0.72213315, 0.        , 0.        , 0.        ],\n",
              "       ...,\n",
              "       [0.89887004, 0.10112996, 0.        , 0.        , 0.        ],\n",
              "       [0.6448435 , 0.3551565 , 0.        , 0.        , 0.        ],\n",
              "       [0.45009569, 0.54990431, 0.        , 0.        , 0.        ]])"
            ]
          },
          "metadata": {
            "tags": []
          },
          "execution_count": 23
        }
      ]
    },
    {
      "cell_type": "code",
      "metadata": {
        "colab": {
          "base_uri": "https://localhost:8080/"
        },
        "id": "9nG4ly5OyZ_u",
        "outputId": "bd99ff0d-e97d-4bfd-ca84-e6181a5fb2a0"
      },
      "source": [
        "from sklearn.metrics import log_loss\r\n",
        "log_loss(y_test, predicciones_train)"
      ],
      "execution_count": null,
      "outputs": [
        {
          "output_type": "execute_result",
          "data": {
            "text/plain": [
              "0.8265724342881199"
            ]
          },
          "metadata": {
            "tags": []
          },
          "execution_count": 24
        }
      ]
    },
    {
      "cell_type": "code",
      "metadata": {
        "id": "WrHdoqZYyda0"
      },
      "source": [
        "# Usando el set de test otorgado\r\n",
        "predicciones_test = neigh.predict_proba(test_set_features[['Total_Taxable_Amount_USD',\r\n",
        "                            'Bureaucratic_Code_0_Approved', \r\n",
        "                            'Products_Per_Op',\r\n",
        "                            'TRF_Per_Op',\r\n",
        "                            'Daily_Dif_Account_Created_Opportunity_Created_Date',\r\n",
        "                            #'Daily_Dif_Delivery_Start_Delivery_End_Date',\r\n",
        "                            'Opp_Owner_Did_Last_Modifiy',\r\n",
        "                            'Pricing, Delivery_Terms_Approved',\r\n",
        "                            'Bureaucratic_Code_0_Approval',\r\n",
        "                            'Last_Modified_date>Planned_Delivery_End_Date',\r\n",
        "                            'Op_Has_A_Valid_Quote_Expiry_Date']])"
      ],
      "execution_count": null,
      "outputs": []
    },
    {
      "cell_type": "code",
      "metadata": {
        "colab": {
          "base_uri": "https://localhost:8080/"
        },
        "id": "5IGalEqD2mO4",
        "outputId": "409001be-6271-4157-d214-9c7adfceac42"
      },
      "source": [
        "predicciones_test"
      ],
      "execution_count": null,
      "outputs": [
        {
          "output_type": "execute_result",
          "data": {
            "text/plain": [
              "array([[0.77496252, 0.22503748, 0.        , 0.        , 0.        ],\n",
              "       [0.77035494, 0.22091536, 0.        , 0.0087297 , 0.        ],\n",
              "       [0.20211206, 0.79788794, 0.        , 0.        , 0.        ],\n",
              "       ...,\n",
              "       [0.38649112, 0.61350888, 0.        , 0.        , 0.        ],\n",
              "       [0.57121514, 0.3943088 , 0.00743351, 0.02704255, 0.        ],\n",
              "       [0.67143852, 0.32856148, 0.        , 0.        , 0.        ]])"
            ]
          },
          "metadata": {
            "tags": []
          },
          "execution_count": 26
        }
      ]
    },
    {
      "cell_type": "markdown",
      "metadata": {
        "id": "A4XdGh6C2wTF"
      },
      "source": [
        "Nos quedamos unicamente con las probabilidades de exito\r\n"
      ]
    },
    {
      "cell_type": "code",
      "metadata": {
        "id": "zN2QRy-K2wTN"
      },
      "source": [
        "predicciones_exito = []\r\n",
        "for prob in predicciones_test:\r\n",
        "  predicciones_exito.append(prob[1])"
      ],
      "execution_count": null,
      "outputs": []
    },
    {
      "cell_type": "code",
      "metadata": {
        "id": "oOqWPLw22wTN"
      },
      "source": [
        "#Habria que subirlo a kaggle para poder analizar las predicciones hechas\r\n",
        "csv_kaggle = pd.DataFrame()\r\n",
        "csv_kaggle['Opportunity_ID'] = test_set_features[\"Opportunity_ID\"]\r\n",
        "csv_kaggle['target'] = predicciones_exito\r\n",
        "#csv_kaggle =  csv_kaggle.drop_duplicates(subset=\"Opportunity_ID\")"
      ],
      "execution_count": null,
      "outputs": []
    },
    {
      "cell_type": "markdown",
      "metadata": {
        "id": "MfKSsyMBSLqq"
      },
      "source": [
        "###Resultados\r\n",
        "- Algoritmo: **KNN**\r\n",
        "\r\n",
        "- Features analizados:\r\n",
        "  'Total_Taxable_Amount_USD'\r\n",
        "  'Bureaucratic_Code_0_Approved', \r\n",
        "  'Products_Per_Op',\r\n",
        "  'TRF_Per_Op',\r\n",
        "  'Daily_Dif_Account_Created_Opportunity_Created_Date'                          \r\n",
        "  'Opp_Owner_Did_Last_Modifiy',\r\n",
        "  'Pricing, Delivery_Terms_Approved',\r\n",
        "  'Bureaucratic_Code_0_Approval',\r\n",
        "  'Last_Modified_date>Planned_Delivery_End_Date',\r\n",
        "  'Op_Has_A_Valid_Quote_Expiry_Date'\r\n",
        "\r\n",
        "- Hiperparámetros: default\r\n",
        "\r\n",
        "**Resultado kaggle = No fue subido a Kaggle**"
      ]
    },
    {
      "cell_type": "markdown",
      "metadata": {
        "id": "JbvlTWAeEcFq"
      },
      "source": [
        "# Usando cross-Validation para parameter tuning"
      ]
    },
    {
      "cell_type": "code",
      "metadata": {
        "colab": {
          "base_uri": "https://localhost:8080/"
        },
        "id": "fYhphvo-EkvQ",
        "outputId": "b46658b7-17cd-4596-a4a8-a6b09ce4d686"
      },
      "source": [
        "from sklearn.model_selection import cross_val_score\r\n",
        "k_list = list(range(1,100,2))\r\n",
        "# creating list of cv scores\r\n",
        "cv_scores = []\r\n",
        "\r\n",
        "# perform 10-fold cross validation\r\n",
        "for k in k_list:\r\n",
        "    knn = KNeighborsClassifier(n_neighbors=k)\r\n",
        "    scores = cross_val_score(knn, X_train, y_train, cv=10, scoring='accuracy')\r\n",
        "    cv_scores.append(scores.mean())"
      ],
      "execution_count": null,
      "outputs": [
        {
          "output_type": "stream",
          "text": [
            "/usr/local/lib/python3.7/dist-packages/sklearn/model_selection/_split.py:667: UserWarning: The least populated class in y has only 6 members, which is less than n_splits=10.\n",
            "  % (min_groups, self.n_splits)), UserWarning)\n",
            "/usr/local/lib/python3.7/dist-packages/sklearn/model_selection/_split.py:667: UserWarning: The least populated class in y has only 6 members, which is less than n_splits=10.\n",
            "  % (min_groups, self.n_splits)), UserWarning)\n",
            "/usr/local/lib/python3.7/dist-packages/sklearn/model_selection/_split.py:667: UserWarning: The least populated class in y has only 6 members, which is less than n_splits=10.\n",
            "  % (min_groups, self.n_splits)), UserWarning)\n",
            "/usr/local/lib/python3.7/dist-packages/sklearn/model_selection/_split.py:667: UserWarning: The least populated class in y has only 6 members, which is less than n_splits=10.\n",
            "  % (min_groups, self.n_splits)), UserWarning)\n",
            "/usr/local/lib/python3.7/dist-packages/sklearn/model_selection/_split.py:667: UserWarning: The least populated class in y has only 6 members, which is less than n_splits=10.\n",
            "  % (min_groups, self.n_splits)), UserWarning)\n",
            "/usr/local/lib/python3.7/dist-packages/sklearn/model_selection/_split.py:667: UserWarning: The least populated class in y has only 6 members, which is less than n_splits=10.\n",
            "  % (min_groups, self.n_splits)), UserWarning)\n",
            "/usr/local/lib/python3.7/dist-packages/sklearn/model_selection/_split.py:667: UserWarning: The least populated class in y has only 6 members, which is less than n_splits=10.\n",
            "  % (min_groups, self.n_splits)), UserWarning)\n",
            "/usr/local/lib/python3.7/dist-packages/sklearn/model_selection/_split.py:667: UserWarning: The least populated class in y has only 6 members, which is less than n_splits=10.\n",
            "  % (min_groups, self.n_splits)), UserWarning)\n",
            "/usr/local/lib/python3.7/dist-packages/sklearn/model_selection/_split.py:667: UserWarning: The least populated class in y has only 6 members, which is less than n_splits=10.\n",
            "  % (min_groups, self.n_splits)), UserWarning)\n",
            "/usr/local/lib/python3.7/dist-packages/sklearn/model_selection/_split.py:667: UserWarning: The least populated class in y has only 6 members, which is less than n_splits=10.\n",
            "  % (min_groups, self.n_splits)), UserWarning)\n",
            "/usr/local/lib/python3.7/dist-packages/sklearn/model_selection/_split.py:667: UserWarning: The least populated class in y has only 6 members, which is less than n_splits=10.\n",
            "  % (min_groups, self.n_splits)), UserWarning)\n",
            "/usr/local/lib/python3.7/dist-packages/sklearn/model_selection/_split.py:667: UserWarning: The least populated class in y has only 6 members, which is less than n_splits=10.\n",
            "  % (min_groups, self.n_splits)), UserWarning)\n",
            "/usr/local/lib/python3.7/dist-packages/sklearn/model_selection/_split.py:667: UserWarning: The least populated class in y has only 6 members, which is less than n_splits=10.\n",
            "  % (min_groups, self.n_splits)), UserWarning)\n",
            "/usr/local/lib/python3.7/dist-packages/sklearn/model_selection/_split.py:667: UserWarning: The least populated class in y has only 6 members, which is less than n_splits=10.\n",
            "  % (min_groups, self.n_splits)), UserWarning)\n",
            "/usr/local/lib/python3.7/dist-packages/sklearn/model_selection/_split.py:667: UserWarning: The least populated class in y has only 6 members, which is less than n_splits=10.\n",
            "  % (min_groups, self.n_splits)), UserWarning)\n",
            "/usr/local/lib/python3.7/dist-packages/sklearn/model_selection/_split.py:667: UserWarning: The least populated class in y has only 6 members, which is less than n_splits=10.\n",
            "  % (min_groups, self.n_splits)), UserWarning)\n",
            "/usr/local/lib/python3.7/dist-packages/sklearn/model_selection/_split.py:667: UserWarning: The least populated class in y has only 6 members, which is less than n_splits=10.\n",
            "  % (min_groups, self.n_splits)), UserWarning)\n",
            "/usr/local/lib/python3.7/dist-packages/sklearn/model_selection/_split.py:667: UserWarning: The least populated class in y has only 6 members, which is less than n_splits=10.\n",
            "  % (min_groups, self.n_splits)), UserWarning)\n",
            "/usr/local/lib/python3.7/dist-packages/sklearn/model_selection/_split.py:667: UserWarning: The least populated class in y has only 6 members, which is less than n_splits=10.\n",
            "  % (min_groups, self.n_splits)), UserWarning)\n",
            "/usr/local/lib/python3.7/dist-packages/sklearn/model_selection/_split.py:667: UserWarning: The least populated class in y has only 6 members, which is less than n_splits=10.\n",
            "  % (min_groups, self.n_splits)), UserWarning)\n",
            "/usr/local/lib/python3.7/dist-packages/sklearn/model_selection/_split.py:667: UserWarning: The least populated class in y has only 6 members, which is less than n_splits=10.\n",
            "  % (min_groups, self.n_splits)), UserWarning)\n",
            "/usr/local/lib/python3.7/dist-packages/sklearn/model_selection/_split.py:667: UserWarning: The least populated class in y has only 6 members, which is less than n_splits=10.\n",
            "  % (min_groups, self.n_splits)), UserWarning)\n",
            "/usr/local/lib/python3.7/dist-packages/sklearn/model_selection/_split.py:667: UserWarning: The least populated class in y has only 6 members, which is less than n_splits=10.\n",
            "  % (min_groups, self.n_splits)), UserWarning)\n",
            "/usr/local/lib/python3.7/dist-packages/sklearn/model_selection/_split.py:667: UserWarning: The least populated class in y has only 6 members, which is less than n_splits=10.\n",
            "  % (min_groups, self.n_splits)), UserWarning)\n",
            "/usr/local/lib/python3.7/dist-packages/sklearn/model_selection/_split.py:667: UserWarning: The least populated class in y has only 6 members, which is less than n_splits=10.\n",
            "  % (min_groups, self.n_splits)), UserWarning)\n",
            "/usr/local/lib/python3.7/dist-packages/sklearn/model_selection/_split.py:667: UserWarning: The least populated class in y has only 6 members, which is less than n_splits=10.\n",
            "  % (min_groups, self.n_splits)), UserWarning)\n",
            "/usr/local/lib/python3.7/dist-packages/sklearn/model_selection/_split.py:667: UserWarning: The least populated class in y has only 6 members, which is less than n_splits=10.\n",
            "  % (min_groups, self.n_splits)), UserWarning)\n",
            "/usr/local/lib/python3.7/dist-packages/sklearn/model_selection/_split.py:667: UserWarning: The least populated class in y has only 6 members, which is less than n_splits=10.\n",
            "  % (min_groups, self.n_splits)), UserWarning)\n",
            "/usr/local/lib/python3.7/dist-packages/sklearn/model_selection/_split.py:667: UserWarning: The least populated class in y has only 6 members, which is less than n_splits=10.\n",
            "  % (min_groups, self.n_splits)), UserWarning)\n",
            "/usr/local/lib/python3.7/dist-packages/sklearn/model_selection/_split.py:667: UserWarning: The least populated class in y has only 6 members, which is less than n_splits=10.\n",
            "  % (min_groups, self.n_splits)), UserWarning)\n",
            "/usr/local/lib/python3.7/dist-packages/sklearn/model_selection/_split.py:667: UserWarning: The least populated class in y has only 6 members, which is less than n_splits=10.\n",
            "  % (min_groups, self.n_splits)), UserWarning)\n",
            "/usr/local/lib/python3.7/dist-packages/sklearn/model_selection/_split.py:667: UserWarning: The least populated class in y has only 6 members, which is less than n_splits=10.\n",
            "  % (min_groups, self.n_splits)), UserWarning)\n",
            "/usr/local/lib/python3.7/dist-packages/sklearn/model_selection/_split.py:667: UserWarning: The least populated class in y has only 6 members, which is less than n_splits=10.\n",
            "  % (min_groups, self.n_splits)), UserWarning)\n",
            "/usr/local/lib/python3.7/dist-packages/sklearn/model_selection/_split.py:667: UserWarning: The least populated class in y has only 6 members, which is less than n_splits=10.\n",
            "  % (min_groups, self.n_splits)), UserWarning)\n",
            "/usr/local/lib/python3.7/dist-packages/sklearn/model_selection/_split.py:667: UserWarning: The least populated class in y has only 6 members, which is less than n_splits=10.\n",
            "  % (min_groups, self.n_splits)), UserWarning)\n",
            "/usr/local/lib/python3.7/dist-packages/sklearn/model_selection/_split.py:667: UserWarning: The least populated class in y has only 6 members, which is less than n_splits=10.\n",
            "  % (min_groups, self.n_splits)), UserWarning)\n",
            "/usr/local/lib/python3.7/dist-packages/sklearn/model_selection/_split.py:667: UserWarning: The least populated class in y has only 6 members, which is less than n_splits=10.\n",
            "  % (min_groups, self.n_splits)), UserWarning)\n",
            "/usr/local/lib/python3.7/dist-packages/sklearn/model_selection/_split.py:667: UserWarning: The least populated class in y has only 6 members, which is less than n_splits=10.\n",
            "  % (min_groups, self.n_splits)), UserWarning)\n",
            "/usr/local/lib/python3.7/dist-packages/sklearn/model_selection/_split.py:667: UserWarning: The least populated class in y has only 6 members, which is less than n_splits=10.\n",
            "  % (min_groups, self.n_splits)), UserWarning)\n",
            "/usr/local/lib/python3.7/dist-packages/sklearn/model_selection/_split.py:667: UserWarning: The least populated class in y has only 6 members, which is less than n_splits=10.\n",
            "  % (min_groups, self.n_splits)), UserWarning)\n",
            "/usr/local/lib/python3.7/dist-packages/sklearn/model_selection/_split.py:667: UserWarning: The least populated class in y has only 6 members, which is less than n_splits=10.\n",
            "  % (min_groups, self.n_splits)), UserWarning)\n",
            "/usr/local/lib/python3.7/dist-packages/sklearn/model_selection/_split.py:667: UserWarning: The least populated class in y has only 6 members, which is less than n_splits=10.\n",
            "  % (min_groups, self.n_splits)), UserWarning)\n",
            "/usr/local/lib/python3.7/dist-packages/sklearn/model_selection/_split.py:667: UserWarning: The least populated class in y has only 6 members, which is less than n_splits=10.\n",
            "  % (min_groups, self.n_splits)), UserWarning)\n",
            "/usr/local/lib/python3.7/dist-packages/sklearn/model_selection/_split.py:667: UserWarning: The least populated class in y has only 6 members, which is less than n_splits=10.\n",
            "  % (min_groups, self.n_splits)), UserWarning)\n",
            "/usr/local/lib/python3.7/dist-packages/sklearn/model_selection/_split.py:667: UserWarning: The least populated class in y has only 6 members, which is less than n_splits=10.\n",
            "  % (min_groups, self.n_splits)), UserWarning)\n",
            "/usr/local/lib/python3.7/dist-packages/sklearn/model_selection/_split.py:667: UserWarning: The least populated class in y has only 6 members, which is less than n_splits=10.\n",
            "  % (min_groups, self.n_splits)), UserWarning)\n",
            "/usr/local/lib/python3.7/dist-packages/sklearn/model_selection/_split.py:667: UserWarning: The least populated class in y has only 6 members, which is less than n_splits=10.\n",
            "  % (min_groups, self.n_splits)), UserWarning)\n",
            "/usr/local/lib/python3.7/dist-packages/sklearn/model_selection/_split.py:667: UserWarning: The least populated class in y has only 6 members, which is less than n_splits=10.\n",
            "  % (min_groups, self.n_splits)), UserWarning)\n",
            "/usr/local/lib/python3.7/dist-packages/sklearn/model_selection/_split.py:667: UserWarning: The least populated class in y has only 6 members, which is less than n_splits=10.\n",
            "  % (min_groups, self.n_splits)), UserWarning)\n",
            "/usr/local/lib/python3.7/dist-packages/sklearn/model_selection/_split.py:667: UserWarning: The least populated class in y has only 6 members, which is less than n_splits=10.\n",
            "  % (min_groups, self.n_splits)), UserWarning)\n"
          ],
          "name": "stderr"
        }
      ]
    },
    {
      "cell_type": "code",
      "metadata": {
        "colab": {
          "base_uri": "https://localhost:8080/",
          "height": 650
        },
        "id": "mhbPkYuOHoyt",
        "outputId": "280272c4-1300-4626-e5e2-c2d22fe32b23"
      },
      "source": [
        "import seaborn as sns\r\n",
        "\r\n",
        "# changing to misclassification error\r\n",
        "MSE = [1 - x for x in cv_scores]\r\n",
        "\r\n",
        "plt.figure()\r\n",
        "plt.figure(figsize=(15,10))\r\n",
        "plt.title('Número óptimo de vecinos', fontsize=20, fontweight='bold')\r\n",
        "plt.xlabel('Número de vecinos', fontsize=15)\r\n",
        "plt.ylabel('Error de clasificación', fontsize=15)\r\n",
        "sns.set_style(\"whitegrid\")\r\n",
        "plt.plot(k_list, MSE)\r\n",
        "\r\n",
        "plt.show()"
      ],
      "execution_count": null,
      "outputs": [
        {
          "output_type": "display_data",
          "data": {
            "text/plain": [
              "<Figure size 432x288 with 0 Axes>"
            ]
          },
          "metadata": {
            "tags": []
          }
        },
        {
          "output_type": "display_data",
          "data": {
            "image/png": "[encoded data removed]",
            "text/plain": [
              "<Figure size 1080x720 with 1 Axes>"
            ]
          },
          "metadata": {
            "tags": []
          }
        }
      ]
    },
    {
      "cell_type": "code",
      "metadata": {
        "colab": {
          "base_uri": "https://localhost:8080/"
        },
        "id": "rzAPFn_HIGqa",
        "outputId": "dc23744e-1d27-4b0b-e237-a9007b0fd926"
      },
      "source": [
        "# finding best k\r\n",
        "best_k = k_list[MSE.index(min(MSE))]\r\n",
        "print(\"El número optimo de vecinos es %d.\" % best_k)"
      ],
      "execution_count": null,
      "outputs": [
        {
          "output_type": "stream",
          "text": [
            "El número optimo de vecinos es 97.\n"
          ],
          "name": "stdout"
        }
      ]
    },
    {
      "cell_type": "markdown",
      "metadata": {
        "id": "ooEapPTJImom"
      },
      "source": [
        "Ahora corremos el algoritmo con el valor optimo de vecinos obtenido"
      ]
    },
    {
      "cell_type": "code",
      "metadata": {
        "id": "Thx8HhbXIj9L"
      },
      "source": [
        "#KNN\r\n",
        "from sklearn.neighbors import KNeighborsClassifier\r\n",
        "\r\n",
        "model_name = 'KNN'\r\n",
        "neigh = KNeighborsClassifier(n_neighbors=97,weights='distance')\r\n",
        "neigh.fit(X_train,y_train)\r\n",
        "predicciones_train = neigh.predict_proba(X_test)"
      ],
      "execution_count": null,
      "outputs": []
    },
    {
      "cell_type": "code",
      "metadata": {
        "colab": {
          "base_uri": "https://localhost:8080/"
        },
        "id": "NcVNdGsjIj9c",
        "outputId": "5f1a3d86-137c-42b1-803f-c519a4a40f11"
      },
      "source": [
        "predicciones_train"
      ],
      "execution_count": null,
      "outputs": [
        {
          "output_type": "execute_result",
          "data": {
            "text/plain": [
              "array([[0.45949826, 0.54050174, 0.        , 0.        , 0.        ],\n",
              "       [0.44156498, 0.55843502, 0.        , 0.        , 0.        ],\n",
              "       [0.26321228, 0.73678772, 0.        , 0.        , 0.        ],\n",
              "       ...,\n",
              "       [0.89895211, 0.09980359, 0.0012443 , 0.        , 0.        ],\n",
              "       [0.62035896, 0.37964104, 0.        , 0.        , 0.        ],\n",
              "       [0.40922137, 0.59077863, 0.        , 0.        , 0.        ]])"
            ]
          },
          "metadata": {
            "tags": []
          },
          "execution_count": 44
        }
      ]
    },
    {
      "cell_type": "code",
      "metadata": {
        "colab": {
          "base_uri": "https://localhost:8080/"
        },
        "id": "Y0LUZSC9Ij9c",
        "outputId": "8aa14bd5-664d-4c08-ab8f-a9dc06e270f6"
      },
      "source": [
        "from sklearn.metrics import log_loss\r\n",
        "log_loss(y_test, predicciones_train)"
      ],
      "execution_count": null,
      "outputs": [
        {
          "output_type": "execute_result",
          "data": {
            "text/plain": [
              "0.8026639810530249"
            ]
          },
          "metadata": {
            "tags": []
          },
          "execution_count": 45
        }
      ]
    },
    {
      "cell_type": "code",
      "metadata": {
        "id": "XnTj3kt0Ij9d"
      },
      "source": [
        "# Usando el set de test otorgado\r\n",
        "predicciones_test = neigh.predict_proba(test_set_features[['Total_Taxable_Amount_USD',\r\n",
        "                            'Bureaucratic_Code_0_Approved', \r\n",
        "                            'Products_Per_Op',\r\n",
        "                            'TRF_Per_Op',\r\n",
        "                            'Daily_Dif_Account_Created_Opportunity_Created_Date',\r\n",
        "                            #'Daily_Dif_Delivery_Start_Delivery_End_Date',\r\n",
        "                            'Opp_Owner_Did_Last_Modifiy',\r\n",
        "                            'Pricing, Delivery_Terms_Approved',\r\n",
        "                            'Bureaucratic_Code_0_Approval',\r\n",
        "                            'Last_Modified_date>Planned_Delivery_End_Date',\r\n",
        "                            'Op_Has_A_Valid_Quote_Expiry_Date']])"
      ],
      "execution_count": null,
      "outputs": []
    },
    {
      "cell_type": "code",
      "metadata": {
        "colab": {
          "base_uri": "https://localhost:8080/"
        },
        "id": "cPnhSrvLIj9d",
        "outputId": "4de03c0e-2dc6-43d3-dce2-3c9d472a1367"
      },
      "source": [
        "predicciones_test"
      ],
      "execution_count": null,
      "outputs": [
        {
          "output_type": "execute_result",
          "data": {
            "text/plain": [
              "array([[0.75527305, 0.24472695, 0.        , 0.        , 0.        ],\n",
              "       [0.76372599, 0.22882118, 0.        , 0.00745283, 0.        ],\n",
              "       [0.21630122, 0.78369878, 0.        , 0.        , 0.        ],\n",
              "       ...,\n",
              "       [0.34225943, 0.65774057, 0.        , 0.        , 0.        ],\n",
              "       [0.54240132, 0.42826941, 0.00632379, 0.02300548, 0.        ],\n",
              "       [0.67021595, 0.32978405, 0.        , 0.        , 0.        ]])"
            ]
          },
          "metadata": {
            "tags": []
          },
          "execution_count": 47
        }
      ]
    },
    {
      "cell_type": "markdown",
      "metadata": {
        "id": "ezkzh-C_Ij9d"
      },
      "source": [
        "Nos quedamos unicamente con las probabilidades de exito\r\n"
      ]
    },
    {
      "cell_type": "code",
      "metadata": {
        "id": "P7gG3-nsIj9e"
      },
      "source": [
        "predicciones_exito = []\r\n",
        "for prob in predicciones_test:\r\n",
        "  predicciones_exito.append(prob[1])"
      ],
      "execution_count": null,
      "outputs": []
    },
    {
      "cell_type": "code",
      "metadata": {
        "id": "EO5Fe579Ij9e"
      },
      "source": [
        "#Habria que subirlo a kaggle para poder analizar las predicciones hechas\r\n",
        "csv_kaggle = pd.DataFrame()\r\n",
        "csv_kaggle['Opportunity_ID'] = test_set_features[\"Opportunity_ID\"]\r\n",
        "csv_kaggle['target'] = predicciones_exito\r\n",
        "#csv_kaggle =  csv_kaggle.drop_duplicates(subset=\"Opportunity_ID\")"
      ],
      "execution_count": null,
      "outputs": []
    }
  ]
}